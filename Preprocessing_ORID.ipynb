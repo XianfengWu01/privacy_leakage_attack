{
 "cells": [
  {
   "cell_type": "code",
   "execution_count": 18,
   "metadata": {},
   "outputs": [],
   "source": [
    "import numpy as np\n",
    "import matplotlib.pyplot as plt\n",
    "import pandas as pd\n",
    "\n",
    "import os\n",
    "import shutil\n",
    "from random import sample"
   ]
  },
  {
   "cell_type": "code",
   "execution_count": 19,
   "metadata": {},
   "outputs": [
    {
     "name": "stdout",
     "output_type": "stream",
     "text": [
      "   ID  Patient Age Patient Sex Left-Fundus Right-Fundus  \\\n",
      "0   0           69      Female  0_left.jpg  0_right.jpg   \n",
      "1   1           57        Male  1_left.jpg  1_right.jpg   \n",
      "2   2           42        Male  2_left.jpg  2_right.jpg   \n",
      "3   3           66        Male  3_left.jpg  3_right.jpg   \n",
      "4   4           53        Male  4_left.jpg  4_right.jpg   \n",
      "\n",
      "                            Left-Diagnostic Keywords  \\\n",
      "0                                           cataract   \n",
      "1                                      normal fundus   \n",
      "2  laser spot，moderate non proliferative retinopathy   \n",
      "3                                      normal fundus   \n",
      "4                        macular epiretinal membrane   \n",
      "\n",
      "                Right-Diagnostic Keywords  N  D  G  C  A  H  M  O  \n",
      "0                           normal fundus  0  0  0  1  0  0  0  0  \n",
      "1                           normal fundus  1  0  0  0  0  0  0  0  \n",
      "2  moderate non proliferative retinopathy  0  1  0  0  0  0  0  1  \n",
      "3         branch retinal artery occlusion  0  0  0  0  0  0  0  1  \n",
      "4       mild nonproliferative retinopathy  0  1  0  0  0  0  0  1  \n"
     ]
    }
   ],
   "source": [
    "my_sheet = 'Sheet1'\n",
    "file_name = '/home/beckham/code/Stanford_HKU/data/ODIR-5K_Training_Annotations(Updated)_V2.xlsx'\n",
    "df = pd.read_excel(file_name, sheet_name = my_sheet)\n",
    "print(df.head())"
   ]
  },
  {
   "cell_type": "code",
   "execution_count": 20,
   "metadata": {},
   "outputs": [
    {
     "data": {
      "text/plain": [
       "['laser spot', 'moderate non proliferative retinopathy']"
      ]
     },
     "execution_count": 20,
     "metadata": {},
     "output_type": "execute_result"
    }
   ],
   "source": [
    "leftEyeKeywords = df['Left-Diagnostic Keywords'].copy()\n",
    "rightEyeKeywords = df['Right-Diagnostic Keywords'].copy()\n",
    "\n",
    "leftEyeKeywords = leftEyeKeywords.str.split(\"，\")\n",
    "rightEyeKeywords = rightEyeKeywords.str.split(\"，\")\n",
    "\n",
    "leftEyeKeywords[2]"
   ]
  },
  {
   "cell_type": "code",
   "execution_count": 21,
   "metadata": {},
   "outputs": [
    {
     "name": "stdout",
     "output_type": "stream",
     "text": [
      "total different keys diagnosis : 105\n"
     ]
    }
   ],
   "source": [
    "from sklearn.preprocessing import MultiLabelBinarizer\n",
    "\n",
    "mlb = MultiLabelBinarizer()\n",
    "\n",
    "res = pd.DataFrame(mlb.fit_transform(rightEyeKeywords),\n",
    "                   columns=mlb.classes_,\n",
    "                   index=rightEyeKeywords.index)\n",
    "\n",
    "allDiagnosisLeft = res.columns.to_list()\n",
    "len(allDiagnosisLeft)\n",
    "\n",
    "res = pd.DataFrame(mlb.fit_transform(leftEyeKeywords),\n",
    "                   columns=mlb.classes_,\n",
    "                   index=leftEyeKeywords.index)\n",
    "\n",
    "allDiagnosisRight = res.columns.to_list()\n",
    "len(allDiagnosisRight)\n",
    "\n",
    "allDiagnosis=list(set(allDiagnosisLeft+allDiagnosisRight))\n",
    "print(\"total different keys diagnosis :\", len(allDiagnosis))"
   ]
  },
  {
   "cell_type": "code",
   "execution_count": 22,
   "metadata": {},
   "outputs": [
    {
     "name": "stdout",
     "output_type": "stream",
     "text": [
      "Normal 3\n",
      "Diabetes 10\n",
      "Glaucoma 5\n",
      "Cataract 3\n",
      "AMD 3\n",
      "Hypertension 1\n",
      "Myopia 6\n",
      "Abnormalities 57\n"
     ]
    },
    {
     "data": {
      "text/plain": [
       "['lens dust', 'low image quality', 'normal fundus']"
      ]
     },
     "execution_count": 22,
     "metadata": {},
     "output_type": "execute_result"
    }
   ],
   "source": [
    "test_df = df.copy()\n",
    "doubleDiagnosisRow = []\n",
    "\n",
    "def getKeyDiagnosisSingle(colName):\n",
    "  keyDiagnosis = []\n",
    "  global doubleDiagnosisRow\n",
    "  store = True\n",
    "  for row in range(len(test_df[colName])):\n",
    "    store = True\n",
    "    if test_df[colName][row] == 1:\n",
    "      for lable in test_df.columns[7:]:\n",
    "        if lable == colName:\n",
    "          continue\n",
    "        if test_df[lable][row] == 1:\n",
    "          doubleDiagnosisRow.append(row)\n",
    "          store = False\n",
    "          break\n",
    "        \n",
    "      if store == True:\n",
    "        for i in rightEyeKeywords[row]:\n",
    "          keyDiagnosis.append(i)\n",
    "        for i in leftEyeKeywords[row]:\n",
    "          keyDiagnosis.append(i)\n",
    "      \n",
    "\n",
    "  keyDiagnosis = list(set(keyDiagnosis))\n",
    "  return keyDiagnosis\n",
    "\n",
    "keyNormal = getKeyDiagnosisSingle(test_df.columns[7])\n",
    "keyDiabetes = getKeyDiagnosisSingle(test_df.columns[8])\n",
    "keyGlaucoma = getKeyDiagnosisSingle(test_df.columns[9])\n",
    "keyCataract = getKeyDiagnosisSingle(test_df.columns[10])\n",
    "keyAMD = getKeyDiagnosisSingle(test_df.columns[11])\n",
    "keyHypertension = getKeyDiagnosisSingle(test_df.columns[12])\n",
    "keyMyopia = getKeyDiagnosisSingle(test_df.columns[13])\n",
    "keyOtherDisease = getKeyDiagnosisSingle(test_df.columns[14])\n",
    "\n",
    "labelString = ['Normal', 'Diabetes', 'Glaucoma', 'Cataract', 'AMD', 'Hypertension', 'Myopia', 'Abnormalities']\n",
    "keyAll = [keyNormal, keyDiabetes, keyGlaucoma, keyCataract, keyAMD, keyHypertension, keyMyopia, keyOtherDisease]\n",
    "\n",
    "for i in range(8):\n",
    "  print(labelString[i], len(keyAll[i]))\n",
    "\n",
    "keyNormal"
   ]
  },
  {
   "cell_type": "code",
   "execution_count": 23,
   "metadata": {},
   "outputs": [
    {
     "name": "stdout",
     "output_type": "stream",
     "text": [
      "intersect by normal :\n",
      "\n",
      "Normal 3\n",
      "Diabetes 8\n",
      "Glaucoma 3\n",
      "Cataract 1\n",
      "AMD 2\n",
      "Hypertension 1\n",
      "Myopia 4\n",
      "Abnormalities 54\n",
      "\n",
      "intersect by other :\n",
      "\n",
      "Normal 3\n",
      "Diabetes 7\n",
      "Glaucoma 3\n",
      "Cataract 1\n",
      "AMD 2\n",
      "Hypertension 1\n",
      "Myopia 4\n",
      "Abnormalities 54\n"
     ]
    }
   ],
   "source": [
    "print(\"intersect by normal :\\n\")\n",
    "for i in range(1,len(keyAll)):\n",
    "  keyAll[i] = list(set(keyAll[i])-set(keyAll[0]))\n",
    "\n",
    "for i in range(8):\n",
    "  print(labelString[i], len(keyAll[i]))\n",
    "\n",
    "print(\"\\nintersect by other :\\n\")\n",
    "for i in range(len(keyAll)):\n",
    "  for j in range(i,len(keyAll)):\n",
    "    if i == j:\n",
    "      continue\n",
    "    else :\n",
    "      keyAll[i] = list(set(keyAll[i])-set(keyAll[j]))\n",
    "\n",
    "for i in range(8):\n",
    "  print(labelString[i], len(keyAll[i]))"
   ]
  },
  {
   "cell_type": "code",
   "execution_count": 26,
   "metadata": {},
   "outputs": [
    {
     "name": "stdout",
     "output_type": "stream",
     "text": [
      "[['lens dust', 'low image quality', 'normal fundus'], ['no fundus image', 'mild nonproliferative retinopathy', 'severe proliferative diabetic retinopathy', 'diabetic retinopathy', 'severe nonproliferative retinopathy', 'moderate non proliferative retinopathy', 'proliferative diabetic retinopathy'], ['suspected glaucoma', 'optic disk photographically invisible', 'glaucoma'], ['cataract'], ['wet age-related macular degeneration', 'dry age-related macular degeneration'], ['hypertensive retinopathy'], ['myopic retinopathy', 'pathological myopia', 'myopic maculopathy', 'anterior segment image'], ['macular hole', 'vitreous degeneration', 'central retinal artery occlusion', 'congenital choroidal coloboma', 'chorioretinal atrophy with pigmentation proliferation', 'morning glory syndrome', 'retinal pigmentation', 'optic discitis', 'retinochoroidal coloboma', 'old chorioretinopathy', 'retinal artery macroaneurysm', 'epiretinal membrane', 'pigment epithelium proliferation', 'oval yellow-white atrophy', 'post laser photocoagulation', 'maculopathy', 'idiopathic choroidal neovascularization', 'tessellated fundus', 'old branch retinal vein occlusion', 'silicone oil eye', 'macular epiretinal membrane', 'laser spot', 'pigmentation disorder', 'atrophy', 'low image quality,maculopathy', 'atrophic change', 'drusen', 'asteroid hyalosis', 'suspected retinal vascular sheathing', 'branch retinal artery occlusion', 'retinal vascular sheathing', 'optic disc edema', 'white vessel', 'optic nerve atrophy', 'suspected abnormal color of  optic disc', 'retinitis pigmentosa', 'refractive media opacity', 'branch retinal vein occlusion', 'arteriosclerosis', 'suspected retinitis pigmentosa', 'abnormal pigment ', 'wedge white line change', 'macular coloboma', 'epiretinal membrane over the macula', 'retina fold', 'central retinal vein occlusion', 'depigmentation of the retinal pigment epithelium', 'chorioretinal atrophy', 'vessel tortuosity', 'spotted membranous change', 'wedge-shaped change', 'rhegmatogenous retinal detachment', 'post retinal laser surgery', 'myelinated nerve fibers']]\n"
     ]
    }
   ],
   "source": [
    "print(keyAll)"
   ]
  }
 ],
 "metadata": {
  "kernelspec": {
   "display_name": "py38",
   "language": "python",
   "name": "python3"
  },
  "language_info": {
   "codemirror_mode": {
    "name": "ipython",
    "version": 3
   },
   "file_extension": ".py",
   "mimetype": "text/x-python",
   "name": "python",
   "nbconvert_exporter": "python",
   "pygments_lexer": "ipython3",
   "version": "3.8.15"
  },
  "orig_nbformat": 4,
  "vscode": {
   "interpreter": {
    "hash": "d14e793052ca846d9c07f84fdaff404d29e84bf0edfd5b9c70bb02b00c6a9481"
   }
  }
 },
 "nbformat": 4,
 "nbformat_minor": 2
}
